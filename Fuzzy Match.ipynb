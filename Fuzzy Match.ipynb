{
 "cells": [
  {
   "cell_type": "code",
   "execution_count": 1,
   "metadata": {
    "scrolled": true,
    "slideshow": {
     "slide_type": "slide"
    }
   },
   "outputs": [
    {
     "name": "stdout",
     "output_type": "stream",
     "text": [
      "WARNING:recordlinkage:indexing - performance warning - A full index can result in large number of record pairs.\n",
      "Full index: 881 records, 387640 pairs\n",
      "103\n",
      "108\n",
      "211\n",
      "Total Number Records: 881\n",
      "Press the enter for stop the programk\n"
     ]
    },
    {
     "data": {
      "text/plain": [
       "'k'"
      ]
     },
     "execution_count": 1,
     "metadata": {},
     "output_type": "execute_result"
    }
   ],
   "source": [
    "import pandas as pd\n",
    "import recordlinkage\n",
    "df_with_truth = pd.read_csv('restaurant.csv', skip_blank_lines=True)\n",
    "# print(len(df_with_truth))\n",
    "# df_with_truth\n",
    "df = df_with_truth.drop(columns=['cluster', 'phone','type'])\n",
    "# df.head(2)\n",
    "import re\n",
    "# print(\"Remove irrelevant separators:\")\n",
    "irrelevant_regex = re.compile(r'[^a-z0-9\\s]')\n",
    "# print(\"Remove multi-spaces:\")\n",
    "multispace_regex = re.compile(r'\\s\\s+')\n",
    "def assign_no_symbols_name(df):\n",
    "    return df.assign(\n",
    "        name=df['name']\n",
    "             .str.replace(irrelevant_regex, ' ')\n",
    "             .str.replace(multispace_regex, ' '))\n",
    "\n",
    "df = assign_no_symbols_name(df)\n",
    "df.head(5)\n",
    "import recordlinkage as rl\n",
    "from recordlinkage.index import Full\n",
    "\n",
    "indexer = Full()\n",
    "pairs = indexer.index(df)\n",
    "\n",
    "print(f\"Full index: {len(df)} records, {len(pairs)} pairs\")\n",
    "compare_cl = recordlinkage.Compare()\n",
    "compare_cl.string('name', 'name', method='jarowinkler',label='name')\n",
    "compare_cl.string('city', 'city', method='jarowinkler',label='city')\n",
    "compare_cl.string('addr', 'addr', method='jarowinkler',label='addr')\n",
    "comparision_vectors = compare_cl.compute(pairs, df)\n",
    "# comparision_vectors.head(5)\n",
    "import numpy as np\n",
    "scores=np.average(comparision_vectors.values,axis=1)\n",
    "scored_comparision_vectors=comparision_vectors.assign(score=scores)\n",
    "scored_comparision_vectors.head()\n",
    "matches=scored_comparision_vectors[scored_comparision_vectors['score']>=0.9]\n",
    "ud={}\n",
    "unique=[]\n",
    "duplicate=[]\n",
    "for i in set(matches.index):\n",
    "    if (list(i)[0]) not in ud:\n",
    "        unique.append((list(i)[0]))\n",
    "        ud=list(ud)+unique\n",
    "                    \n",
    "    if (list(i)[1]) not in ud:\n",
    "        duplicate.append((list(i)[1]))\n",
    "        ud=list(ud)+duplicate\n",
    "    ud=set(ud)\n",
    "unique=np.array(unique)\n",
    "unique.sort()\n",
    "# print(f\"Unique Records index:\",unique)\n",
    "duplicate=np.array(duplicate)\n",
    "duplicate.sort()\n",
    "# print(f\"Duplicate Records index:\",duplicate)  \n",
    "ud=list(ud)\n",
    "print(len(unique))\n",
    "print(len(duplicate))\n",
    "print(len(ud))\n",
    "# print(ud)\n",
    "unique1=set(unique)\n",
    "unique2=set(df.index)-set(ud)\n",
    "unique=list(unique1)+list(unique2)\n",
    "uniq=df_with_truth.iloc[unique]\n",
    "uniq.to_excel(\"Rest Unique.xlsx\")\n",
    "dup=df_with_truth.iloc[duplicate]\n",
    "dup.to_excel(\"Rest duplicate.xlsx\")\n",
    "print(f\"Total Number Records:\",len(uniq)+len(dup))\n",
    "input(\"Press the enter for stop the program\")"
   ]
  }
 ],
 "metadata": {
  "celltoolbar": "Slideshow",
  "kernelspec": {
   "display_name": "Python 3",
   "language": "python",
   "name": "python3"
  },
  "language_info": {
   "codemirror_mode": {
    "name": "ipython",
    "version": 3
   },
   "file_extension": ".py",
   "mimetype": "text/x-python",
   "name": "python",
   "nbconvert_exporter": "python",
   "pygments_lexer": "ipython3",
   "version": "3.7.3"
  }
 },
 "nbformat": 4,
 "nbformat_minor": 2
}
